{
 "cells": [
  {
   "cell_type": "code",
   "execution_count": null,
   "id": "343a4592",
   "metadata": {},
   "outputs": [],
   "source": [
    "# JEE Mathematics Fine-tuning with Qwen2.5-7B-Instruct on Kaggle\n",
    "# Tesla P100 GPU Optimized Pipeline\n",
    "\n",
    "import os\n",
    "import json\n",
    "import torch\n",
    "import gc\n",
    "from pathlib import Path\n",
    "import pandas as pd\n",
    "from datetime import datetime\n",
    "\n",
    "# Check GPU availability and specifications\n",
    "print(f\"🚀 KAGGLE ENVIRONMENT SETUP\")\n",
    "print(f\"{'='*50}\")\n",
    "print(f\"🔧 Python version: {os.sys.version}\")\n",
    "print(f\"🔥 PyTorch version: {torch.__version__}\")\n",
    "print(f\"🎯 CUDA available: {torch.cuda.is_available()}\")\n",
    "\n",
    "if torch.cuda.is_available():\n",
    "    print(f\"🖥️  GPU device: {torch.cuda.get_device_name(0)}\")\n",
    "    print(f\"💾 GPU memory: {torch.cuda.get_device_properties(0).total_memory / 1e9:.1f} GB\")\n",
    "    print(f\"🔋 CUDA version: {torch.version.cuda}\")\n",
    "\n",
    "print(f\"📁 Working directory: {os.getcwd()}\")\n",
    "print(f\"💿 Available space: {os.statvfs('.').f_bavail * os.statvfs('.').f_frsize / 1e9:.1f} GB\")"
   ]
  },
  {
   "cell_type": "code",
   "execution_count": null,
   "id": "2d20097a",
   "metadata": {},
   "outputs": [],
   "source": [
    "# Install required packages for fine-tuning\n",
    "!pip install -q transformers==4.40.0\n",
    "!pip install -q datasets==2.19.0\n",
    "!pip install -q peft==0.10.0\n",
    "!pip install -q accelerate==0.29.0\n",
    "!pip install -q bitsandbytes==0.43.0\n",
    "!pip install -q trl==0.8.6\n",
    "!pip install -q wandb\n",
    "!pip install -q huggingface_hub\n",
    "\n",
    "# Restart runtime after installation\n",
    "print(\"✅ All packages installed! Restart runtime if needed.\")"
   ]
  }
 ],
 "metadata": {
  "language_info": {
   "name": "python"
  }
 },
 "nbformat": 4,
 "nbformat_minor": 5
}
